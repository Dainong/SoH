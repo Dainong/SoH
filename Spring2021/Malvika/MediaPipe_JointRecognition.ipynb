{
 "cells": [
  {
   "cell_type": "code",
   "execution_count": 1,
   "id": "seeing-verification",
   "metadata": {},
   "outputs": [],
   "source": [
    "import cv2\n",
    "import mediapipe as mp\n",
    "from matplotlib import pyplot as plt\n",
    "import numpy as np"
   ]
  },
  {
   "cell_type": "code",
   "execution_count": 61,
   "id": "unnecessary-female",
   "metadata": {},
   "outputs": [],
   "source": [
    "img = cv2.imread('hand 8.png') # uint8 -> uint16"
   ]
  },
  {
   "cell_type": "code",
   "execution_count": 62,
   "id": "sorted-optimization",
   "metadata": {},
   "outputs": [],
   "source": [
    "z = 'hand 8.txt'  # Z and RGB\n",
    "z = np.loadtxt(z)"
   ]
  },
  {
   "cell_type": "code",
   "execution_count": 63,
   "id": "cultural-child",
   "metadata": {},
   "outputs": [],
   "source": [
    "mp_hands = mp.solutions.hands"
   ]
  },
  {
   "cell_type": "code",
   "execution_count": 64,
   "id": "respected-amateur",
   "metadata": {},
   "outputs": [],
   "source": [
    "mp_drawing = mp.solutions.drawing_utils"
   ]
  },
  {
   "cell_type": "code",
   "execution_count": 90,
   "id": "satellite-grade",
   "metadata": {},
   "outputs": [],
   "source": [
    "hands = mp_hands.Hands(max_num_hands=2,\n",
    "                      min_detection_confidence=0.1,\n",
    "                      min_tracking_confidence=0.1)"
   ]
  },
  {
   "cell_type": "code",
   "execution_count": 91,
   "id": "professional-performer",
   "metadata": {},
   "outputs": [],
   "source": [
    "image = cv2.flip(img,1)\n",
    "image_height, image_width, _ = img.shape"
   ]
  },
  {
   "cell_type": "code",
   "execution_count": 92,
   "id": "democratic-breathing",
   "metadata": {},
   "outputs": [],
   "source": [
    "results = hands.process(cv2.cvtColor(image,cv2.COLOR_BGR2RGB))"
   ]
  },
  {
   "cell_type": "code",
   "execution_count": 93,
   "id": "expired-prescription",
   "metadata": {},
   "outputs": [
    {
     "name": "stdout",
     "output_type": "stream",
     "text": [
      "Handedness:  [classification {\n",
      "  index: 1\n",
      "  score: 0.7684947848320007\n",
      "  label: \"Right\"\n",
      "}\n",
      ", classification {\n",
      "  index: 0\n",
      "  score: 1.0\n",
      "  label: \"Left\"\n",
      "}\n",
      "]\n"
     ]
    }
   ],
   "source": [
    "print('Handedness: ', results.multi_handedness)"
   ]
  },
  {
   "cell_type": "code",
   "execution_count": 94,
   "id": "streaming-judges",
   "metadata": {},
   "outputs": [
    {
     "data": {
      "image/png": "[encoded data removed]",
      "text/plain": [
       "<Figure size 432x288 with 1 Axes>"
      ]
     },
     "metadata": {
      "needs_background": "light"
     },
     "output_type": "display_data"
    }
   ],
   "source": [
    "annoted_image = image.copy()\n",
    "for hand_landmarks in results.multi_hand_landmarks:\n",
    "    mp_drawing.draw_landmarks(annoted_image, hand_landmarks, mp_hands.HAND_CONNECTIONS)\n",
    "imageshow = plt.imshow(cv2.cvtColor(annoted_image,cv2.COLOR_BGR2RGB))\n",
    "cv2.imshow(\"Image\",cv2.flip(annoted_image,1))\n",
    "cv2.waitKey(0)\n",
    "cv2.destroyAllWindows()"
   ]
  },
  {
   "cell_type": "code",
   "execution_count": 25,
   "id": "least-handle",
   "metadata": {},
   "outputs": [],
   "source": [
    "# x coordinates\n",
    "p0x = hand_landmarks.landmark[mp_hands.HandLandmark.WRIST].x * image_width\n",
    "p1x = hand_landmarks.landmark[mp_hands.HandLandmark.THUMB_CMC].x * image_width\n",
    "p2x = hand_landmarks.landmark[mp_hands.HandLandmark.THUMB_MCP].x * image_width\n",
    "p3x = hand_landmarks.landmark[mp_hands.HandLandmark.THUMB_IP].x * image_width\n",
    "p4x = hand_landmarks.landmark[mp_hands.HandLandmark.THUMB_TIP].x * image_width\n",
    "p5x = hand_landmarks.landmark[mp_hands.HandLandmark.INDEX_FINGER_MCP].x * image_width\n",
    "p6x = hand_landmarks.landmark[mp_hands.HandLandmark.INDEX_FINGER_PIP].x * image_width\n",
    "p7x = hand_landmarks.landmark[mp_hands.HandLandmark.INDEX_FINGER_DIP].x * image_width\n",
    "p8x = hand_landmarks.landmark[mp_hands.HandLandmark.INDEX_FINGER_TIP].x * image_width\n",
    "p9x = hand_landmarks.landmark[mp_hands.HandLandmark.MIDDLE_FINGER_MCP].x * image_width\n",
    "p10x = hand_landmarks.landmark[mp_hands.HandLandmark.MIDDLE_FINGER_PIP].x * image_width\n",
    "p11x = hand_landmarks.landmark[mp_hands.HandLandmark.MIDDLE_FINGER_DIP].x * image_width\n",
    "p12x = hand_landmarks.landmark[mp_hands.HandLandmark.MIDDLE_FINGER_TIP].x * image_width\n",
    "p13x = hand_landmarks.landmark[mp_hands.HandLandmark.RING_FINGER_MCP].x * image_width\n",
    "p14x = hand_landmarks.landmark[mp_hands.HandLandmark.RING_FINGER_PIP].x * image_width\n",
    "p15x = hand_landmarks.landmark[mp_hands.HandLandmark.RING_FINGER_DIP].x * image_width\n",
    "p16x = hand_landmarks.landmark[mp_hands.HandLandmark.RING_FINGER_TIP].x * image_width\n",
    "p17x = hand_landmarks.landmark[mp_hands.HandLandmark.PINKY_MCP].x * image_width\n",
    "p18x = hand_landmarks.landmark[mp_hands.HandLandmark.PINKY_PIP].x * image_width\n",
    "p19x = hand_landmarks.landmark[mp_hands.HandLandmark.PINKY_DIP].x * image_width\n",
    "p20x = hand_landmarks.landmark[mp_hands.HandLandmark.PINKY_TIP].x * image_width"
   ]
  },
  {
   "cell_type": "code",
   "execution_count": 26,
   "id": "fourth-breed",
   "metadata": {},
   "outputs": [
    {
     "name": "stdout",
     "output_type": "stream",
     "text": [
      "259.2848777770996\n"
     ]
    }
   ],
   "source": [
    "print(p6x)"
   ]
  },
  {
   "cell_type": "code",
   "execution_count": 27,
   "id": "controlled-taylor",
   "metadata": {},
   "outputs": [],
   "source": [
    "# y coordinates\n",
    "p0y = hand_landmarks.landmark[mp_hands.HandLandmark.WRIST].y * image_height\n",
    "p1y = hand_landmarks.landmark[mp_hands.HandLandmark.THUMB_CMC].y * image_height\n",
    "p2y = hand_landmarks.landmark[mp_hands.HandLandmark.THUMB_MCP].y * image_height\n",
    "p3y = hand_landmarks.landmark[mp_hands.HandLandmark.THUMB_IP].y * image_height\n",
    "p4y = hand_landmarks.landmark[mp_hands.HandLandmark.THUMB_TIP].y * image_height\n",
    "p5y = hand_landmarks.landmark[mp_hands.HandLandmark.INDEX_FINGER_MCP].y * image_height\n",
    "p6y = hand_landmarks.landmark[mp_hands.HandLandmark.INDEX_FINGER_PIP].y * image_height\n",
    "p7y = hand_landmarks.landmark[mp_hands.HandLandmark.INDEX_FINGER_DIP].y * image_height\n",
    "p8y = hand_landmarks.landmark[mp_hands.HandLandmark.INDEX_FINGER_TIP].y * image_height\n",
    "p9y = hand_landmarks.landmark[mp_hands.HandLandmark.MIDDLE_FINGER_MCP].y * image_height\n",
    "p10y = hand_landmarks.landmark[mp_hands.HandLandmark.MIDDLE_FINGER_PIP].y * image_height\n",
    "p11y = hand_landmarks.landmark[mp_hands.HandLandmark.MIDDLE_FINGER_DIP].y * image_height\n",
    "p12y = hand_landmarks.landmark[mp_hands.HandLandmark.MIDDLE_FINGER_TIP].y * image_height\n",
    "p13y = hand_landmarks.landmark[mp_hands.HandLandmark.RING_FINGER_MCP].y * image_height\n",
    "p14y = hand_landmarks.landmark[mp_hands.HandLandmark.RING_FINGER_PIP].y * image_height\n",
    "p15y = hand_landmarks.landmark[mp_hands.HandLandmark.RING_FINGER_DIP].y * image_height\n",
    "p16y = hand_landmarks.landmark[mp_hands.HandLandmark.RING_FINGER_TIP].y * image_height\n",
    "p17y = hand_landmarks.landmark[mp_hands.HandLandmark.PINKY_MCP].y * image_height\n",
    "p18y = hand_landmarks.landmark[mp_hands.HandLandmark.PINKY_PIP].y * image_height\n",
    "p19y = hand_landmarks.landmark[mp_hands.HandLandmark.PINKY_DIP].y * image_height\n",
    "p20y = hand_landmarks.landmark[mp_hands.HandLandmark.PINKY_TIP].y * image_height\n"
   ]
  },
  {
   "cell_type": "code",
   "execution_count": 28,
   "id": "median-syndication",
   "metadata": {},
   "outputs": [
    {
     "name": "stdout",
     "output_type": "stream",
     "text": [
      "234.2227077484131\n"
     ]
    }
   ],
   "source": [
    "print(p6y)"
   ]
  },
  {
   "cell_type": "code",
   "execution_count": 29,
   "id": "accurate-gambling",
   "metadata": {},
   "outputs": [],
   "source": [
    "# z coordinates\n",
    "p0z = z[int(p0y)][int(p0x)]\n",
    "p1z = z[int(p1y)][int(p1x)]\n",
    "p2z = z[int(p2y)][int(p2x)]\n",
    "p3z = z[int(p3y)][int(p3x)]\n",
    "p4z = z[int(p4y)][int(p4x)]\n",
    "p5z = z[int(p5y)][int(p5x)]\n",
    "p6z = z[int(p6y)][int(p6x)]\n",
    "p7z = z[int(p7y)][int(p7x)]\n",
    "p8z = z[int(p8y)][int(p8x)]\n",
    "p9z = z[int(p9y)][int(p9x)]\n",
    "p10z = z[int(p10y)][int(p10x)]\n",
    "p11z = z[int(p11y)][int(p11x)]\n",
    "p12z = z[int(p12y)][int(p12x)]\n",
    "p13z = z[int(p13y)][int(p13x)]\n",
    "p14z = z[int(p14y)][int(p14x)]\n",
    "p15z = z[int(p15y)][int(p15x)]\n",
    "p16z = z[int(p16y)][int(p16x)]\n",
    "p17z = z[int(p17y)][int(p17x)]\n",
    "p18z = z[int(p18y)][int(p18x)]\n",
    "p19z = z[int(p19y)][int(p19x)]\n",
    "p20z = z[int(p20y)][int(p20x)]"
   ]
  },
  {
   "cell_type": "code",
   "execution_count": 30,
   "id": "transsexual-element",
   "metadata": {},
   "outputs": [
    {
     "name": "stdout",
     "output_type": "stream",
     "text": [
      "-767.93\n"
     ]
    }
   ],
   "source": [
    "print(p6z)"
   ]
  },
  {
   "cell_type": "code",
   "execution_count": null,
   "id": "effective-tourism",
   "metadata": {},
   "outputs": [],
   "source": []
  }
 ],
 "metadata": {
  "kernelspec": {
   "display_name": "Python 3",
   "language": "python",
   "name": "python3"
  },
  "language_info": {
   "codemirror_mode": {
    "name": "ipython",
    "version": 3
   },
   "file_extension": ".py",
   "mimetype": "text/x-python",
   "name": "python",
   "nbconvert_exporter": "python",
   "pygments_lexer": "ipython3",
   "version": "3.6.12"
  }
 },
 "nbformat": 4,
 "nbformat_minor": 5
}
