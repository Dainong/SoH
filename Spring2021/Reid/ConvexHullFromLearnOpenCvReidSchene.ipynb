{
 "cells": [
  {
   "cell_type": "code",
   "execution_count": 3,
   "metadata": {},
   "outputs": [],
   "source": [
    "import cv2\n",
    "import numpy as np \n",
    "from PIL import Image\n",
    "import matplotlib.pyplot as plt\n",
    "from numpy import asarray\n",
    "src = cv2.imread(\"pictures/xyzm1.png\", 1) # read input image\n",
    "gray = cv2.cvtColor(src, cv2.COLOR_BGR2GRAY) # convert to grayscale\n",
    "blur = cv2.blur(gray, (3, 3)) # blur the image\n",
    "ret, thresh = cv2.threshold(blur, 50, 255, cv2.THRESH_BINARY)\n",
    "\n",
    "# Finding contours for the thresholded image\n",
    "contours, hierarchy = cv2.findContours(thresh, cv2.RETR_TREE, cv2.CHAIN_APPROX_SIMPLE)\n",
    "# create hull array for convex hull points\n",
    "hull = []\n",
    "\n",
    "for i in range(len(contours)):\n",
    "    # creating convex hull object for each contour\n",
    "    hull.append(cv2.convexHull(contours[i], False))\n",
    "    \n",
    "# create an empty black image\n",
    "drawing = np.zeros((thresh.shape[0], thresh.shape[1], 3), np.uint8)\n",
    "# draw contours and hull points\n",
    "for i in range(len(contours)):\n",
    "    color_contours = (0, 255, 0) # green - color for contours\n",
    "    color = (255, 0, 0) # blue - color for convex hull\n",
    "    cv2.drawContours(drawing, contours, i, color_contours, 1, 8, hierarchy)\n",
    "\n",
    "    final = cv2.drawContours(drawing, hull, i, color, 1, 8)\n",
    "    \n",
    "im = Image.fromarray(final)\n",
    "im.save(\"tour_file.jpeg\")"
   ]
  },
  {
   "cell_type": "code",
   "execution_count": null,
   "metadata": {},
   "outputs": [],
   "source": []
  }
 ],
 "metadata": {
  "kernelspec": {
   "display_name": "Python 3",
   "language": "python",
   "name": "python3"
  },
  "language_info": {
   "codemirror_mode": {
    "name": "ipython",
    "version": 3
   },
   "file_extension": ".py",
   "mimetype": "text/x-python",
   "name": "python",
   "nbconvert_exporter": "python",
   "pygments_lexer": "ipython3",
   "version": "3.8.5"
  }
 },
 "nbformat": 4,
 "nbformat_minor": 4
}
